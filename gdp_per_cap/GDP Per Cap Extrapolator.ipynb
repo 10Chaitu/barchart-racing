{
 "cells": [
  {
   "cell_type": "code",
   "execution_count": 29,
   "metadata": {},
   "outputs": [],
   "source": [
    "import json\n",
    "import matplotlib.pyplot as plt\n",
    "from scipy.interpolate import interp1d"
   ]
  },
  {
   "cell_type": "code",
   "execution_count": 61,
   "metadata": {},
   "outputs": [],
   "source": [
    "with open('population.json','r') as f:\n",
    "    pop = json.load(f)\n",
    "    popyears = pop.keys()\n",
    "with open('data.json','r') as f:\n",
    "    gdp = json.load(f)\n",
    "    gdpyears = gdp.keys()\n",
    "    allstates = gdp['1980'].keys()"
   ]
  },
  {
   "cell_type": "code",
   "execution_count": 73,
   "metadata": {},
   "outputs": [],
   "source": [
    "# create mappers\n",
    "mapping = {}\n",
    "for state in allstates:\n",
    "    stateyrwise = [pop[yr][state] if str(pop[yr][state]).isdigit() else 0 for yr in popyears]\n",
    "    popyearsinint = list(map(int,list(popyears)))\n",
    "    mapping[state] = interp1d(popyearsinint,stateyrwise)"
   ]
  },
  {
   "cell_type": "code",
   "execution_count": 74,
   "metadata": {},
   "outputs": [],
   "source": [
    "result = {}"
   ]
  },
  {
   "cell_type": "code",
   "execution_count": 91,
   "metadata": {},
   "outputs": [],
   "source": [
    "for year in gdpyears:\n",
    "    intyear = int(year)\n",
    "    for state in allstates:\n",
    "        if year not in result:\n",
    "            result[year] = {}\n",
    "        extrapolatedpop = int(mapping[state](intyear))\n",
    "        if isinstance(gdp[year][state], str):\n",
    "            gdpvalue = 0\n",
    "        else:\n",
    "            gdpvalue = float(gdp[year][state])*10000000\n",
    "        if extrapolatedpop == 0:\n",
    "            toret = 0\n",
    "        else:\n",
    "            toret = gdpvalue/extrapolatedpop\n",
    "        \n",
    "        result[year][state] = int(toret)"
   ]
  },
  {
   "cell_type": "code",
   "execution_count": 92,
   "metadata": {},
   "outputs": [],
   "source": [
    "with open('gdp_per_cap.json','w+') as f:\n",
    "    f.write(json.dumps(result))\n",
    "    f.close()"
   ]
  },
  {
   "cell_type": "code",
   "execution_count": null,
   "metadata": {},
   "outputs": [],
   "source": []
  }
 ],
 "metadata": {
  "kernelspec": {
   "display_name": "Python 3",
   "language": "python",
   "name": "python3"
  },
  "language_info": {
   "codemirror_mode": {
    "name": "ipython",
    "version": 3
   },
   "file_extension": ".py",
   "mimetype": "text/x-python",
   "name": "python",
   "nbconvert_exporter": "python",
   "pygments_lexer": "ipython3",
   "version": "3.6.5"
  }
 },
 "nbformat": 4,
 "nbformat_minor": 2
}
